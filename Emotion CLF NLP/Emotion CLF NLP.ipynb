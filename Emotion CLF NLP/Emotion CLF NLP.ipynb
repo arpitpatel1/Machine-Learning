{
 "cells": [
  {
   "cell_type": "code",
   "execution_count": null,
   "id": "7fac9f6b",
   "metadata": {
    "id": "7fac9f6b"
   },
   "outputs": [],
   "source": [
    "import pandas as pd"
   ]
  },
  {
   "cell_type": "code",
   "execution_count": null,
   "id": "FMWD4ID9IIs7",
   "metadata": {
    "id": "FMWD4ID9IIs7"
   },
   "outputs": [],
   "source": [
    "import gensim"
   ]
  },
  {
   "cell_type": "code",
   "execution_count": null,
   "id": "7iZS8VAiHuXq",
   "metadata": {
    "id": "7iZS8VAiHuXq"
   },
   "outputs": [],
   "source": []
  },
  {
   "cell_type": "code",
   "execution_count": null,
   "id": "a5be1c7f",
   "metadata": {
    "id": "a5be1c7f"
   },
   "outputs": [],
   "source": [
    "df = pd.read_csv('/content/train.txt',delimiter=';',names=['sentence','label'])"
   ]
  },
  {
   "cell_type": "code",
   "execution_count": null,
   "id": "0dd7fafb",
   "metadata": {
    "id": "0dd7fafb"
   },
   "outputs": [],
   "source": [
    "dff = pd.read_csv('/content/test.txt',delimiter=';',names=['sentence','label'])"
   ]
  },
  {
   "cell_type": "code",
   "execution_count": null,
   "id": "f76c1df3",
   "metadata": {
    "colab": {
     "base_uri": "https://localhost:8080/"
    },
    "id": "f76c1df3",
    "outputId": "34335ca3-699c-4609-fdd8-51a22d618fa5"
   },
   "outputs": [],
   "source": [
    "df.shape"
   ]
  },
  {
   "cell_type": "code",
   "execution_count": null,
   "id": "789d3089",
   "metadata": {
    "colab": {
     "base_uri": "https://localhost:8080/"
    },
    "id": "789d3089",
    "outputId": "a17caec0-270b-40b8-acdd-ec83016714e9"
   },
   "outputs": [],
   "source": [
    "dff.shape"
   ]
  },
  {
   "cell_type": "code",
   "execution_count": null,
   "id": "8b398800",
   "metadata": {
    "colab": {
     "base_uri": "https://localhost:8080/",
     "height": 206
    },
    "id": "8b398800",
    "outputId": "716b804f-2723-49e5-c312-a9dd935b4f4f"
   },
   "outputs": [],
   "source": [
    "dff.head()"
   ]
  },
  {
   "cell_type": "code",
   "execution_count": null,
   "id": "09b43426",
   "metadata": {
    "id": "09b43426"
   },
   "outputs": [],
   "source": [
    "dft=df.append(dff)"
   ]
  },
  {
   "cell_type": "code",
   "execution_count": null,
   "id": "988f203a",
   "metadata": {
    "colab": {
     "base_uri": "https://localhost:8080/",
     "height": 206
    },
    "id": "988f203a",
    "outputId": "22b76b7e-2d13-4afa-93fc-01f86a38cf43"
   },
   "outputs": [],
   "source": [
    "df.head()"
   ]
  },
  {
   "cell_type": "code",
   "execution_count": null,
   "id": "5cd4065c",
   "metadata": {
    "colab": {
     "base_uri": "https://localhost:8080/"
    },
    "id": "5cd4065c",
    "outputId": "e0d9c33c-c30c-4a8c-d23f-f5506fbb661f"
   },
   "outputs": [],
   "source": [
    "dft.shape"
   ]
  },
  {
   "cell_type": "code",
   "execution_count": null,
   "id": "82f0f4e0",
   "metadata": {
    "id": "82f0f4e0"
   },
   "outputs": [],
   "source": [
    "from nltk.corpus import stopwords"
   ]
  },
  {
   "cell_type": "code",
   "execution_count": null,
   "id": "765d5ac1",
   "metadata": {
    "id": "765d5ac1"
   },
   "outputs": [],
   "source": [
    "import nltk"
   ]
  },
  {
   "cell_type": "code",
   "execution_count": null,
   "id": "t5tkdPcN0Y24",
   "metadata": {
    "colab": {
     "base_uri": "https://localhost:8080/"
    },
    "id": "t5tkdPcN0Y24",
    "outputId": "eadabbb5-7f5e-460a-f3e9-3f0a32fde4f3"
   },
   "outputs": [],
   "source": [
    "nltk.download('punkt')\n",
    "nltk.download('stopwords')"
   ]
  },
  {
   "cell_type": "code",
   "execution_count": null,
   "id": "1cfb9a85",
   "metadata": {
    "id": "1cfb9a85"
   },
   "outputs": [],
   "source": [
    "from nltk.tokenize import word_tokenize,sent_tokenize"
   ]
  },
  {
   "cell_type": "code",
   "execution_count": null,
   "id": "05093a84",
   "metadata": {
    "id": "05093a84"
   },
   "outputs": [],
   "source": [
    "from nltk.stem.porter import PorterStemmer\n",
    "ps = PorterStemmer()"
   ]
  },
  {
   "cell_type": "code",
   "execution_count": null,
   "id": "9ed2bc5e",
   "metadata": {
    "id": "9ed2bc5e"
   },
   "outputs": [],
   "source": []
  },
  {
   "cell_type": "code",
   "execution_count": null,
   "id": "5263cba1",
   "metadata": {
    "id": "5263cba1"
   },
   "outputs": [],
   "source": [
    "def transform_text(text):\n",
    "    text = text.lower()\n",
    "    text = nltk.word_tokenize(text)\n",
    "    \n",
    "    y = []\n",
    "    for i in text:\n",
    "        if i.isalnum():\n",
    "            y.append(i)\n",
    "    \n",
    "    text = y[:]\n",
    "    y.clear()\n",
    "    \n",
    "    for i in text:\n",
    "        if i not in stopwords.words('english'):\n",
    "            y.append(i)\n",
    "            \n",
    "    text = y[:]\n",
    "    y.clear()\n",
    "    \n",
    "    for i in text:\n",
    "        y.append(ps.stem(i))\n",
    "    \n",
    "            \n",
    "    return \" \".join(y)"
   ]
  },
  {
   "cell_type": "code",
   "execution_count": null,
   "id": "9a83c13a",
   "metadata": {
    "id": "9a83c13a"
   },
   "outputs": [],
   "source": [
    "dft['transformed_text']=dft['sentence'].apply(transform_text)\n",
    "    "
   ]
  },
  {
   "cell_type": "code",
   "execution_count": null,
   "id": "2ee61f03",
   "metadata": {
    "colab": {
     "base_uri": "https://localhost:8080/"
    },
    "id": "2ee61f03",
    "outputId": "805a8b03-4165-4127-c179-4db0f9b29b8f"
   },
   "outputs": [],
   "source": [
    "dft['label'].value_counts()"
   ]
  },
  {
   "cell_type": "code",
   "execution_count": null,
   "id": "a33b42ad",
   "metadata": {
    "colab": {
     "base_uri": "https://localhost:8080/",
     "height": 206
    },
    "id": "a33b42ad",
    "outputId": "2444e47f-764b-4ff1-96c1-276cb9b165ae"
   },
   "outputs": [],
   "source": [
    "dft.head()"
   ]
  },
  {
   "cell_type": "code",
   "execution_count": null,
   "id": "70f5cfea",
   "metadata": {
    "id": "70f5cfea"
   },
   "outputs": [],
   "source": [
    "data = dft[['transformed_text','label']]"
   ]
  },
  {
   "cell_type": "code",
   "execution_count": null,
   "id": "46eb3ad5",
   "metadata": {
    "colab": {
     "base_uri": "https://localhost:8080/",
     "height": 206
    },
    "id": "46eb3ad5",
    "outputId": "d28d7a91-1b81-4303-bee3-c69e2c3c6e84"
   },
   "outputs": [],
   "source": [
    "data.head()"
   ]
  },
  {
   "cell_type": "code",
   "execution_count": null,
   "id": "17b32253",
   "metadata": {
    "id": "17b32253"
   },
   "outputs": [],
   "source": [
    "X = data.iloc[:12000,0:1]\n",
    "y = data['label']\n",
    "y = y.iloc[:12000]"
   ]
  },
  {
   "cell_type": "code",
   "execution_count": null,
   "id": "dee0a536",
   "metadata": {
    "colab": {
     "base_uri": "https://localhost:8080/",
     "height": 424
    },
    "id": "dee0a536",
    "outputId": "fab290a8-bf33-4266-c2b0-d9fa771238cc"
   },
   "outputs": [],
   "source": [
    "X"
   ]
  },
  {
   "cell_type": "code",
   "execution_count": null,
   "id": "d2407808",
   "metadata": {
    "colab": {
     "base_uri": "https://localhost:8080/"
    },
    "id": "d2407808",
    "outputId": "69ea3345-ed6e-4780-f760-2b47b0bb1ce6"
   },
   "outputs": [],
   "source": [
    "y"
   ]
  },
  {
   "cell_type": "code",
   "execution_count": null,
   "id": "4a1ca1db",
   "metadata": {
    "id": "4a1ca1db"
   },
   "outputs": [],
   "source": [
    "from sklearn.preprocessing import LabelEncoder\n",
    "\n",
    "encoder = LabelEncoder()\n",
    "\n",
    "y = encoder.fit_transform(y)"
   ]
  },
  {
   "cell_type": "code",
   "execution_count": null,
   "id": "d081d5e8",
   "metadata": {
    "colab": {
     "base_uri": "https://localhost:8080/"
    },
    "id": "d081d5e8",
    "outputId": "0d5c6ef2-f39f-4158-a2b4-f2a9eccbc04d"
   },
   "outputs": [],
   "source": [
    "y"
   ]
  },
  {
   "cell_type": "code",
   "execution_count": null,
   "id": "50a331c2",
   "metadata": {
    "id": "50a331c2"
   },
   "outputs": [],
   "source": [
    "from sklearn.model_selection import train_test_split\n",
    "X_train,X_test,y_train,y_test = train_test_split(X,y,test_size=0.2,random_state=1)"
   ]
  },
  {
   "cell_type": "markdown",
   "id": "543c2b48",
   "metadata": {
    "id": "543c2b48"
   },
   "source": [
    "# BOW"
   ]
  },
  {
   "cell_type": "code",
   "execution_count": null,
   "id": "85fb78a6",
   "metadata": {
    "id": "85fb78a6"
   },
   "outputs": [],
   "source": [
    "from sklearn.feature_extraction.text import CountVectorizer"
   ]
  },
  {
   "cell_type": "code",
   "execution_count": null,
   "id": "5618cf67",
   "metadata": {
    "id": "5618cf67"
   },
   "outputs": [],
   "source": [
    "cv = CountVectorizer()"
   ]
  },
  {
   "cell_type": "code",
   "execution_count": null,
   "id": "fdf46c0f",
   "metadata": {
    "id": "fdf46c0f"
   },
   "outputs": [],
   "source": [
    "X_train_bow = cv.fit_transform(X_train['transformed_text']).toarray()\n",
    "X_test_bow = cv.transform(X_test['transformed_text']).toarray()"
   ]
  },
  {
   "cell_type": "code",
   "execution_count": null,
   "id": "6a29b5c8",
   "metadata": {
    "colab": {
     "base_uri": "https://localhost:8080/"
    },
    "id": "6a29b5c8",
    "outputId": "3c52c9a5-e590-416a-d6cb-bd83667e2d92"
   },
   "outputs": [],
   "source": [
    "X_train_bow.shape"
   ]
  },
  {
   "cell_type": "code",
   "execution_count": null,
   "id": "fd79f658",
   "metadata": {
    "colab": {
     "base_uri": "https://localhost:8080/"
    },
    "id": "fd79f658",
    "outputId": "89a02560-5e36-4005-a082-54f2aa48b2be"
   },
   "outputs": [],
   "source": [
    "from sklearn.naive_bayes import GaussianNB\n",
    "gnb = GaussianNB()\n",
    "\n",
    "gnb.fit(X_train_bow,y_train)"
   ]
  },
  {
   "cell_type": "code",
   "execution_count": null,
   "id": "62456076",
   "metadata": {
    "colab": {
     "base_uri": "https://localhost:8080/"
    },
    "id": "62456076",
    "outputId": "ed93e124-40c8-4cda-a3b0-85a257765f6d"
   },
   "outputs": [],
   "source": [
    "y_pred = gnb.predict(X_test_bow)\n",
    "\n",
    "from sklearn.metrics import accuracy_score,confusion_matrix\n",
    "accuracy_score(y_test,y_pred)"
   ]
  },
  {
   "cell_type": "code",
   "execution_count": null,
   "id": "6f8b2acf",
   "metadata": {
    "colab": {
     "base_uri": "https://localhost:8080/"
    },
    "id": "6f8b2acf",
    "outputId": "f8b332c9-69c3-467c-ebd1-cb5f7d1f29f3"
   },
   "outputs": [],
   "source": [
    "confusion_matrix(y_test,y_pred)"
   ]
  },
  {
   "cell_type": "code",
   "execution_count": null,
   "id": "9738c2cd",
   "metadata": {
    "colab": {
     "base_uri": "https://localhost:8080/"
    },
    "id": "9738c2cd",
    "outputId": "b8399c4c-d4b5-4304-cd7f-2404a9e33106"
   },
   "outputs": [],
   "source": [
    "from sklearn.ensemble import RandomForestClassifier\n",
    "rf = RandomForestClassifier()\n",
    "\n",
    "rf.fit(X_train_bow,y_train)\n",
    "y_pred = rf.predict(X_test_bow)\n",
    "accuracy_score(y_test,y_pred)"
   ]
  },
  {
   "cell_type": "code",
   "execution_count": null,
   "id": "d03efa2c",
   "metadata": {
    "colab": {
     "base_uri": "https://localhost:8080/"
    },
    "id": "d03efa2c",
    "outputId": "d53efb0e-6c5c-42b6-abd6-da346b0bf852"
   },
   "outputs": [],
   "source": [
    "cv = CountVectorizer(max_features=3000)\n",
    "\n",
    "X_train_bow = cv.fit_transform(X_train['transformed_text']).toarray()\n",
    "X_test_bow = cv.transform(X_test['transformed_text']).toarray()\n",
    "\n",
    "rf = RandomForestClassifier()\n",
    "\n",
    "rf.fit(X_train_bow,y_train)\n",
    "y_pred = rf.predict(X_test_bow)\n",
    "accuracy_score(y_test,y_pred)"
   ]
  },
  {
   "cell_type": "code",
   "execution_count": null,
   "id": "9837be3e",
   "metadata": {
    "colab": {
     "base_uri": "https://localhost:8080/"
    },
    "id": "9837be3e",
    "outputId": "ebed70bc-e4b6-475e-dc22-72c9bea7e0e2"
   },
   "outputs": [],
   "source": [
    "cv = CountVectorizer(ngram_range=(1,2),max_features=5000)\n",
    "\n",
    "X_train_bow = cv.fit_transform(X_train['transformed_text']).toarray()\n",
    "X_test_bow = cv.transform(X_test['transformed_text']).toarray()\n",
    "\n",
    "rf = RandomForestClassifier()\n",
    "\n",
    "rf.fit(X_train_bow,y_train)\n",
    "y_pred = rf.predict(X_test_bow)\n",
    "accuracy_score(y_test,y_pred)"
   ]
  },
  {
   "cell_type": "markdown",
   "id": "b7a8a07d",
   "metadata": {
    "id": "b7a8a07d"
   },
   "source": [
    "# TFIDF"
   ]
  },
  {
   "cell_type": "code",
   "execution_count": null,
   "id": "ae4c2ed8",
   "metadata": {
    "id": "ae4c2ed8"
   },
   "outputs": [],
   "source": [
    "from sklearn.feature_extraction.text import TfidfVectorizer"
   ]
  },
  {
   "cell_type": "code",
   "execution_count": null,
   "id": "99a3b047",
   "metadata": {
    "id": "99a3b047"
   },
   "outputs": [],
   "source": [
    "tfidf = TfidfVectorizer()"
   ]
  },
  {
   "cell_type": "code",
   "execution_count": null,
   "id": "69ff349a",
   "metadata": {
    "id": "69ff349a"
   },
   "outputs": [],
   "source": [
    "X_train_tfidf = tfidf.fit_transform(X_train['transformed_text']).toarray()\n",
    "X_test_tfidf = tfidf.transform(X_test['transformed_text'])"
   ]
  },
  {
   "cell_type": "code",
   "execution_count": null,
   "id": "3a8308b3",
   "metadata": {
    "colab": {
     "base_uri": "https://localhost:8080/",
     "height": 380
    },
    "id": "3a8308b3",
    "outputId": "9ae5bc7a-a1a0-4b69-dc54-4322ba147fe5"
   },
   "outputs": [],
   "source": [
    "rf = RandomForestClassifier()\n",
    "\n",
    "rf.fit(X_train_tfidf,y_train)\n",
    "y_pred = rf.predict(X_test_tfidf)\n",
    "\n",
    "accuracy_score(y_test,y_pred)"
   ]
  },
  {
   "cell_type": "markdown",
   "id": "0e1205a5",
   "metadata": {
    "id": "0e1205a5"
   },
   "source": [
    "# Word2vec"
   ]
  },
  {
   "cell_type": "code",
   "execution_count": null,
   "id": "8934c307",
   "metadata": {
    "id": "8934c307"
   },
   "outputs": [],
   "source": [
    "import gensim\n",
    "from nltk import sent_tokenize\n",
    "from gensim.utils import simple_preprocess"
   ]
  },
  {
   "cell_type": "code",
   "execution_count": null,
   "id": "786580ba",
   "metadata": {
    "id": "786580ba"
   },
   "outputs": [],
   "source": [
    "sent = [row.split() for row in X['transformed_text']]"
   ]
  },
  {
   "cell_type": "code",
   "execution_count": null,
   "id": "82ccc36a",
   "metadata": {
    "colab": {
     "base_uri": "https://localhost:8080/"
    },
    "id": "82ccc36a",
    "outputId": "390e14c9-fb77-49a9-fc00-5fae33c80c6a"
   },
   "outputs": [],
   "source": [
    "len(sent)"
   ]
  },
  {
   "cell_type": "code",
   "execution_count": null,
   "id": "ada5fad1",
   "metadata": {
    "id": "ada5fad1"
   },
   "outputs": [],
   "source": [
    "# from gensim.models.phrases import Phrases, Phraser"
   ]
  },
  {
   "cell_type": "code",
   "execution_count": null,
   "id": "7b9a476b",
   "metadata": {
    "id": "7b9a476b"
   },
   "outputs": [],
   "source": [
    "# phrases = Phrases(sent, min_count=30, progress_per=500)"
   ]
  },
  {
   "cell_type": "code",
   "execution_count": null,
   "id": "6f057164",
   "metadata": {
    "id": "6f057164"
   },
   "outputs": [],
   "source": [
    "# bigram = Phraser(phrases)"
   ]
  },
  {
   "cell_type": "code",
   "execution_count": null,
   "id": "7e915bb3",
   "metadata": {
    "id": "7e915bb3"
   },
   "outputs": [],
   "source": [
    "# sentences = bigram[sent]"
   ]
  },
  {
   "cell_type": "code",
   "execution_count": null,
   "id": "cf1fd033",
   "metadata": {
    "id": "cf1fd033"
   },
   "outputs": [],
   "source": [
    "# sentences"
   ]
  },
  {
   "cell_type": "code",
   "execution_count": null,
   "id": "f13ab5d1",
   "metadata": {
    "id": "f13ab5d1"
   },
   "outputs": [],
   "source": [
    "model = gensim.models.Word2Vec(\n",
    "    sent,\n",
    "    window=5,\n",
    "    min_count=2\n",
    ")"
   ]
  },
  {
   "cell_type": "code",
   "execution_count": null,
   "id": "Mhe9bnsC5NMZ",
   "metadata": {
    "colab": {
     "base_uri": "https://localhost:8080/"
    },
    "id": "Mhe9bnsC5NMZ",
    "outputId": "594218c5-aa70-4e77-ef2e-bd9264fb6d79"
   },
   "outputs": [],
   "source": [
    "model"
   ]
  },
  {
   "cell_type": "code",
   "execution_count": null,
   "id": "bfbff581",
   "metadata": {
    "id": "bfbff581"
   },
   "outputs": [],
   "source": [
    "#  model.build_vocab(sent)"
   ]
  },
  {
   "cell_type": "code",
   "execution_count": null,
   "id": "f9fcbed5",
   "metadata": {
    "id": "f9fcbed5"
   },
   "outputs": [],
   "source": [
    "# model.train(sentences, total_examples=model.corpus_count, epochs=model.epochs)"
   ]
  },
  {
   "cell_type": "code",
   "execution_count": null,
   "id": "nWU_SF7Q8mXU",
   "metadata": {
    "id": "nWU_SF7Q8mXU"
   },
   "outputs": [],
   "source": [
    "model.corpus_count"
   ]
  },
  {
   "cell_type": "code",
   "execution_count": null,
   "id": "_gb486KF8mhc",
   "metadata": {
    "colab": {
     "base_uri": "https://localhost:8080/"
    },
    "id": "_gb486KF8mhc",
    "outputId": "bafae510-93b8-40d9-c070-e070cec11e4f"
   },
   "outputs": [],
   "source": [
    "model.wv.similar_by_word('man')"
   ]
  },
  {
   "cell_type": "code",
   "execution_count": null,
   "id": "1b00200f",
   "metadata": {
    "colab": {
     "base_uri": "https://localhost:8080/",
     "height": 165
    },
    "id": "1b00200f",
    "outputId": "7159e87b-5a40-4f64-f600-7667c1a87447"
   },
   "outputs": [],
   "source": [
    "# model.wv.index_to_key"
   ]
  },
  {
   "cell_type": "code",
   "execution_count": null,
   "id": "8145e22f",
   "metadata": {
    "id": "8145e22f"
   },
   "outputs": [],
   "source": [
    "def document_vector(doc):\n",
    "    # remove out-of-vocabulary words\n",
    "    doc = [word for word in doc.split() if word in model.wv.index_to_key]\n",
    "    return np.mean(model.wv[doc], axis=0)"
   ]
  },
  {
   "cell_type": "code",
   "execution_count": null,
   "id": "889999a3",
   "metadata": {
    "id": "889999a3"
   },
   "outputs": [],
   "source": [
    "from tqdm import tqdm\n",
    "import numpy as np"
   ]
  },
  {
   "cell_type": "code",
   "execution_count": null,
   "id": "01ec7dc3",
   "metadata": {
    "colab": {
     "base_uri": "https://localhost:8080/",
     "height": 345
    },
    "id": "01ec7dc3",
    "outputId": "1387de45-b64d-4792-fa69-2a62da28802a"
   },
   "outputs": [],
   "source": [
    "c = []\n",
    "for doc in tqdm(X['transformed_text'].values):\n",
    "    c.append(document_vector(doc))"
   ]
  },
  {
   "cell_type": "code",
   "execution_count": null,
   "id": "25b14e04",
   "metadata": {
    "id": "25b14e04"
   },
   "outputs": [],
   "source": [
    "C= np.array(c)"
   ]
  },
  {
   "cell_type": "code",
   "execution_count": null,
   "id": "b4430312",
   "metadata": {
    "id": "b4430312"
   },
   "outputs": [],
   "source": [
    "C.shape"
   ]
  },
  {
   "cell_type": "code",
   "execution_count": null,
   "id": "66221e10",
   "metadata": {
    "id": "66221e10"
   },
   "outputs": [],
   "source": [
    "from sklearn.model_selection import train_test_split\n",
    "X_train,X_test,y_train,y_test = train_test_split(C,y,test_size=0.2,random_state=1)"
   ]
  },
  {
   "cell_type": "code",
   "execution_count": null,
   "id": "63a3ed77",
   "metadata": {
    "id": "63a3ed77"
   },
   "outputs": [],
   "source": [
    "rf = RandomForestClassifier()\n",
    "rf.fit(X_train,y_train)\n",
    "y_pred = rf.predict(X_test)\n",
    "accuracy_score(y_test,y_pred)"
   ]
  },
  {
   "cell_type": "code",
   "execution_count": null,
   "id": "59ff8e0d",
   "metadata": {
    "id": "59ff8e0d"
   },
   "outputs": [],
   "source": []
  },
  {
   "cell_type": "code",
   "execution_count": null,
   "id": "3d54e4b4",
   "metadata": {
    "id": "3d54e4b4"
   },
   "outputs": [],
   "source": []
  }
 ],
 "metadata": {
  "colab": {
   "provenance": []
  },
  "kernelspec": {
   "display_name": "Python 3 (ipykernel)",
   "language": "python",
   "name": "python3"
  },
  "language_info": {
   "codemirror_mode": {
    "name": "ipython",
    "version": 3
   },
   "file_extension": ".py",
   "mimetype": "text/x-python",
   "name": "python",
   "nbconvert_exporter": "python",
   "pygments_lexer": "ipython3",
   "version": "3.10.5"
  }
 },
 "nbformat": 4,
 "nbformat_minor": 5
}
